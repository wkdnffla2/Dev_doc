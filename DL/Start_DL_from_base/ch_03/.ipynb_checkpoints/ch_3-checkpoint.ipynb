{
 "cells": [
  {
   "cell_type": "code",
   "execution_count": 4,
   "id": "eb4a4b6d-5d80-4971-a518-834b14dbdc2d",
   "metadata": {},
   "outputs": [],
   "source": [
    "import numpy as np"
   ]
  },
  {
   "cell_type": "code",
   "execution_count": null,
   "id": "ee457613-16f3-4c7a-9788-f5752574deff",
   "metadata": {},
   "outputs": [],
   "source": []
  },
  {
   "cell_type": "code",
   "execution_count": 2,
   "id": "8944a5b2-9cc7-4162-afc0-c641ba29a818",
   "metadata": {},
   "outputs": [],
   "source": [
    "def step_fuction(x):\n",
    "\n",
    "    if x>0:\n",
    "        return 1\n",
    "    else:\n",
    "        return 0\n",
    "\n",
    "## x에 넘파이 인수는 넣을수 없다 따라서 바꿀 것이다."
   ]
  },
  {
   "cell_type": "code",
   "execution_count": null,
   "id": "8cbbb113-8540-453a-a29e-5e118c68e13a",
   "metadata": {},
   "outputs": [],
   "source": []
  },
  {
   "cell_type": "code",
   "execution_count": null,
   "id": "bd2bccf7-e590-4662-a699-ea25ac3cd143",
   "metadata": {},
   "outputs": [],
   "source": []
  },
  {
   "cell_type": "code",
   "execution_count": 3,
   "id": "5ad657fe-c614-47d7-99bc-8ebac190082e",
   "metadata": {},
   "outputs": [],
   "source": [
    "def step_fuction_v2(x):\n",
    "\n",
    "    y = x>0\n",
    "    return y.astype(np.int)"
   ]
  },
  {
   "cell_type": "code",
   "execution_count": 5,
   "id": "710a8caa-2ebf-4f81-af5a-fd13ffb72b93",
   "metadata": {},
   "outputs": [
    {
     "data": {
      "text/plain": [
       "array([-1.,  1.,  2.])"
      ]
     },
     "execution_count": 5,
     "metadata": {},
     "output_type": "execute_result"
    }
   ],
   "source": [
    "x = np.array([-1.0, 1.0, 2.0])\n",
    "x"
   ]
  },
  {
   "cell_type": "code",
   "execution_count": 6,
   "id": "a21fa0e7-a03c-4058-91c2-245cde05a080",
   "metadata": {},
   "outputs": [
    {
     "data": {
      "text/plain": [
       "array([False,  True,  True])"
      ]
     },
     "execution_count": 6,
     "metadata": {},
     "output_type": "execute_result"
    }
   ],
   "source": [
    "y = x>0\n",
    "y\n",
    "# 여기서 y는 bool형 이기 때문에 이것을 int로 변환을 해줘야 한다."
   ]
  },
  {
   "cell_type": "code",
   "execution_count": null,
   "id": "e59234a3-c1b0-4c10-9cdc-35d8d8e10aee",
   "metadata": {},
   "outputs": [],
   "source": []
  },
  {
   "cell_type": "code",
   "execution_count": null,
   "id": "4f945522-111f-4d68-a2c0-6befb3c3a4d5",
   "metadata": {},
   "outputs": [],
   "source": []
  }
 ],
 "metadata": {
  "kernelspec": {
   "display_name": "Python 3 (ipykernel)",
   "language": "python",
   "name": "python3"
  },
  "language_info": {
   "codemirror_mode": {
    "name": "ipython",
    "version": 3
   },
   "file_extension": ".py",
   "mimetype": "text/x-python",
   "name": "python",
   "nbconvert_exporter": "python",
   "pygments_lexer": "ipython3",
   "version": "3.11.7"
  }
 },
 "nbformat": 4,
 "nbformat_minor": 5
}
