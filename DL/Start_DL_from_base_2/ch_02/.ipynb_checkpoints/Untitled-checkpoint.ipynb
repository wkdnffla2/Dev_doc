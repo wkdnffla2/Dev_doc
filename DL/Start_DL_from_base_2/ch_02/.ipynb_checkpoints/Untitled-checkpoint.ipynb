{
 "cells": [
  {
   "cell_type": "code",
   "execution_count": 1,
   "id": "6abe4f1c-d23b-44c4-9f95-9dd7533ae48d",
   "metadata": {},
   "outputs": [],
   "source": [
    "text = 'You say goodbye and I say hello.'\n"
   ]
  },
  {
   "cell_type": "code",
   "execution_count": 2,
   "id": "d13678b5-b7ec-4e91-85d2-518fad020485",
   "metadata": {},
   "outputs": [],
   "source": [
    "text = text.lower()\n",
    "text = text.replace('.', ' .')"
   ]
  },
  {
   "cell_type": "code",
   "execution_count": 3,
   "id": "8a0a9c93-f99d-4383-a2d9-4845ce207214",
   "metadata": {},
   "outputs": [
    {
     "data": {
      "text/plain": [
       "'you say goodbye and i say hello .'"
      ]
     },
     "execution_count": 3,
     "metadata": {},
     "output_type": "execute_result"
    }
   ],
   "source": [
    "text"
   ]
  },
  {
   "cell_type": "code",
   "execution_count": 4,
   "id": "93bf7e94-9512-41ab-b268-7897b3f5ac03",
   "metadata": {},
   "outputs": [],
   "source": [
    "# 이렇게 전처리를 했다."
   ]
  },
  {
   "cell_type": "code",
   "execution_count": 5,
   "id": "91fee6e1-d2c2-44d5-a31f-4dfa3efae5b4",
   "metadata": {},
   "outputs": [],
   "source": [
    "words = text.split(' ')"
   ]
  },
  {
   "cell_type": "code",
   "execution_count": 6,
   "id": "e4dca85f-aa12-4f9a-900d-3592393727f5",
   "metadata": {},
   "outputs": [
    {
     "data": {
      "text/plain": [
       "['you', 'say', 'goodbye', 'and', 'i', 'say', 'hello', '.']"
      ]
     },
     "execution_count": 6,
     "metadata": {},
     "output_type": "execute_result"
    }
   ],
   "source": [
    "words"
   ]
  },
  {
   "cell_type": "code",
   "execution_count": 7,
   "id": "ba17c98e-9930-4649-920b-18bcf6aab4fa",
   "metadata": {},
   "outputs": [],
   "source": [
    "# 소문자로 변환후 단어로 스플릿\n",
    "\n",
    "# 이제 원래 문장을 단어 목록 형태로 이용이 가능하지만 딕셔너리;를 사용하여 대응표를 작성한다."
   ]
  },
  {
   "cell_type": "code",
   "execution_count": 8,
   "id": "3a1762fb-9891-49d1-a1cb-90591a69d06d",
   "metadata": {},
   "outputs": [],
   "source": [
    "word_to_id= {}\n",
    "\n",
    "id_to_word={}"
   ]
  },
  {
   "cell_type": "code",
   "execution_count": null,
   "id": "84ecd04a-9f7a-48e4-8fee-594da0d70ff6",
   "metadata": {},
   "outputs": [],
   "source": []
  },
  {
   "cell_type": "code",
   "execution_count": 9,
   "id": "a01624a9-f7cc-4f13-ae11-bfb737cd137b",
   "metadata": {},
   "outputs": [],
   "source": [
    "for word in words:\n",
    "    if word not in word_to_id:\n",
    "        new_id = len(word_to_id)\n",
    "        word_to_id[word]=new_id\n",
    "        id_to_word[new_id]=word\n",
    "        "
   ]
  },
  {
   "cell_type": "code",
   "execution_count": 10,
   "id": "b6447dcf-1b77-420d-967f-5533919df6a0",
   "metadata": {},
   "outputs": [
    {
     "data": {
      "text/plain": [
       "{0: 'you', 1: 'say', 2: 'goodbye', 3: 'and', 4: 'i', 5: 'hello', 6: '.'}"
      ]
     },
     "execution_count": 10,
     "metadata": {},
     "output_type": "execute_result"
    }
   ],
   "source": [
    "id_to_word"
   ]
  },
  {
   "cell_type": "code",
   "execution_count": 11,
   "id": "0fe94362-04f0-488e-90aa-e7ea8f9db425",
   "metadata": {},
   "outputs": [
    {
     "data": {
      "text/plain": [
       "{'you': 0, 'say': 1, 'goodbye': 2, 'and': 3, 'i': 4, 'hello': 5, '.': 6}"
      ]
     },
     "execution_count": 11,
     "metadata": {},
     "output_type": "execute_result"
    }
   ],
   "source": [
    "word_to_id"
   ]
  },
  {
   "cell_type": "code",
   "execution_count": 12,
   "id": "bc7f62c0-a9d7-4dfd-af2b-3b29b203e395",
   "metadata": {},
   "outputs": [],
   "source": [
    "# 단어 목록을 단어 ID 목록으로 변경"
   ]
  },
  {
   "cell_type": "code",
   "execution_count": 13,
   "id": "c5064fa7-b42e-42d2-a3c6-defbd760c937",
   "metadata": {},
   "outputs": [],
   "source": [
    "import numpy as np"
   ]
  },
  {
   "cell_type": "code",
   "execution_count": 14,
   "id": "25b03910-2e5e-4237-86d1-89c7e96c0931",
   "metadata": {},
   "outputs": [],
   "source": [
    "corpus = [word_to_id[w] for w in words]\n"
   ]
  },
  {
   "cell_type": "code",
   "execution_count": 15,
   "id": "1b7cfa07-4107-4f58-aafa-45eed4b84da5",
   "metadata": {},
   "outputs": [],
   "source": [
    "corpus = np.array(corpus)"
   ]
  },
  {
   "cell_type": "code",
   "execution_count": 16,
   "id": "8e67e117-1eff-45eb-b4e6-c4a84c6d623a",
   "metadata": {},
   "outputs": [
    {
     "data": {
      "text/plain": [
       "array([0, 1, 2, 3, 4, 1, 5, 6])"
      ]
     },
     "execution_count": 16,
     "metadata": {},
     "output_type": "execute_result"
    }
   ],
   "source": [
    "corpus"
   ]
  },
  {
   "cell_type": "code",
   "execution_count": null,
   "id": "d7198c59-19bd-4818-bbca-d87e3cc7e092",
   "metadata": {},
   "outputs": [],
   "source": [
    "# 이상으로 말뭉치를 처리하기 위한 사전 준비가 끝낫다."
   ]
  }
 ],
 "metadata": {
  "kernelspec": {
   "display_name": "Python 3 (ipykernel)",
   "language": "python",
   "name": "python3"
  },
  "language_info": {
   "codemirror_mode": {
    "name": "ipython",
    "version": 3
   },
   "file_extension": ".py",
   "mimetype": "text/x-python",
   "name": "python",
   "nbconvert_exporter": "python",
   "pygments_lexer": "ipython3",
   "version": "3.11.7"
  }
 },
 "nbformat": 4,
 "nbformat_minor": 5
}
