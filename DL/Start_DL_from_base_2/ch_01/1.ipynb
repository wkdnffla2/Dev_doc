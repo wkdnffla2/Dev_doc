{
 "cells": [
  {
   "cell_type": "code",
   "execution_count": 2,
   "id": "56adefac-3fe0-4716-a6ca-f6d21861e3c1",
   "metadata": {},
   "outputs": [],
   "source": [
    "import numpy as np"
   ]
  },
  {
   "cell_type": "code",
   "execution_count": null,
   "id": "c6b529e5-5db6-4b8b-8474-158204f8971e",
   "metadata": {},
   "outputs": [],
   "source": []
  },
  {
   "cell_type": "code",
   "execution_count": 4,
   "id": "adb83b64-9045-4999-a99a-626a3db234cc",
   "metadata": {},
   "outputs": [],
   "source": [
    "x= np.array([1,2,3])"
   ]
  },
  {
   "cell_type": "code",
   "execution_count": 5,
   "id": "3316a359-8615-4ada-9e3d-9d4ef827bbea",
   "metadata": {},
   "outputs": [
    {
     "data": {
      "text/plain": [
       "numpy.ndarray"
      ]
     },
     "execution_count": 5,
     "metadata": {},
     "output_type": "execute_result"
    }
   ],
   "source": [
    "x.__class__"
   ]
  },
  {
   "cell_type": "code",
   "execution_count": 6,
   "id": "9b471b1a-0733-4b36-b096-d2108a617c23",
   "metadata": {},
   "outputs": [
    {
     "data": {
      "text/plain": [
       "(3,)"
      ]
     },
     "execution_count": 6,
     "metadata": {},
     "output_type": "execute_result"
    }
   ],
   "source": [
    "x.shape"
   ]
  },
  {
   "cell_type": "code",
   "execution_count": 7,
   "id": "3b70eebb-fcec-44ed-b041-32879757f1cc",
   "metadata": {},
   "outputs": [
    {
     "data": {
      "text/plain": [
       "1"
      ]
     },
     "execution_count": 7,
     "metadata": {},
     "output_type": "execute_result"
    }
   ],
   "source": [
    "x.ndim"
   ]
  },
  {
   "cell_type": "code",
   "execution_count": 9,
   "id": "5acfefeb-6083-43ea-817f-d6a25873459b",
   "metadata": {},
   "outputs": [],
   "source": [
    "W = np.array([[1,2,3],[4,5,6]])"
   ]
  },
  {
   "cell_type": "code",
   "execution_count": 10,
   "id": "1cb19f8d-4c5c-44ec-a0c0-889bfe8af7c8",
   "metadata": {},
   "outputs": [
    {
     "data": {
      "text/plain": [
       "(2, 3)"
      ]
     },
     "execution_count": 10,
     "metadata": {},
     "output_type": "execute_result"
    }
   ],
   "source": [
    "W.shape"
   ]
  },
  {
   "cell_type": "code",
   "execution_count": 11,
   "id": "6b92820f-0ef8-42c7-b977-9bc114823c24",
   "metadata": {},
   "outputs": [
    {
     "data": {
      "text/plain": [
       "2"
      ]
     },
     "execution_count": 11,
     "metadata": {},
     "output_type": "execute_result"
    }
   ],
   "source": [
    "W.ndim"
   ]
  },
  {
   "cell_type": "code",
   "execution_count": null,
   "id": "f4f8188c-0fb0-4245-a679-db398a2228e9",
   "metadata": {},
   "outputs": [],
   "source": []
  },
  {
   "cell_type": "code",
   "execution_count": 12,
   "id": "7548c14f-228c-4935-bfe6-cefd2bc35757",
   "metadata": {},
   "outputs": [
    {
     "data": {
      "text/plain": [
       "array([[ 1,  3,  5],\n",
       "       [ 7,  9, 11]])"
      ]
     },
     "execution_count": 12,
     "metadata": {},
     "output_type": "execute_result"
    }
   ],
   "source": [
    "W = np.array ([[1,2,3],[4,5,6]])\n",
    "X = np.array([[0,1,2],[3,4,5]])\n",
    "W+X"
   ]
  },
  {
   "cell_type": "code",
   "execution_count": 13,
   "id": "188599de-571b-49ce-8fe0-dfb76d03b05a",
   "metadata": {},
   "outputs": [
    {
     "data": {
      "text/plain": [
       "array([[ 0,  2,  6],\n",
       "       [12, 20, 30]])"
      ]
     },
     "execution_count": 13,
     "metadata": {},
     "output_type": "execute_result"
    }
   ],
   "source": [
    "W*X"
   ]
  },
  {
   "cell_type": "code",
   "execution_count": null,
   "id": "9f616add-90c4-4989-ade9-28a04f5e525b",
   "metadata": {},
   "outputs": [],
   "source": []
  },
  {
   "cell_type": "code",
   "execution_count": 14,
   "id": "43795394-6363-48fc-9549-56fe29f2a280",
   "metadata": {},
   "outputs": [
    {
     "data": {
      "text/plain": [
       "array([[10, 20],\n",
       "       [30, 40]])"
      ]
     },
     "execution_count": 14,
     "metadata": {},
     "output_type": "execute_result"
    }
   ],
   "source": [
    "A = np.array([[1,2],[3,4]])\n",
    "A*10"
   ]
  },
  {
   "cell_type": "code",
   "execution_count": null,
   "id": "49cb28f3-9bfc-4a44-bf0e-0b59d1f5fe90",
   "metadata": {},
   "outputs": [],
   "source": []
  },
  {
   "cell_type": "code",
   "execution_count": null,
   "id": "83676052-6552-439e-b50c-3eac45f2744c",
   "metadata": {},
   "outputs": [],
   "source": []
  },
  {
   "cell_type": "code",
   "execution_count": 15,
   "id": "7c063015-2163-422e-aefc-d2d8c64aa57c",
   "metadata": {},
   "outputs": [],
   "source": [
    "A = np.array([[1,2],[3,4]])"
   ]
  },
  {
   "cell_type": "code",
   "execution_count": 16,
   "id": "571ad7f5-98c7-4fea-acd4-4f0f0929b5f5",
   "metadata": {},
   "outputs": [],
   "source": [
    "b=np.array([10,20])"
   ]
  },
  {
   "cell_type": "code",
   "execution_count": 18,
   "id": "e12a1108-1534-48e1-acda-ae44b105ac25",
   "metadata": {},
   "outputs": [
    {
     "data": {
      "text/plain": [
       "array([[10, 40],\n",
       "       [30, 80]])"
      ]
     },
     "execution_count": 18,
     "metadata": {},
     "output_type": "execute_result"
    }
   ],
   "source": [
    "A*b\n"
   ]
  },
  {
   "cell_type": "code",
   "execution_count": null,
   "id": "5ae99af1-c881-4826-8610-7458129de3f7",
   "metadata": {},
   "outputs": [],
   "source": []
  },
  {
   "cell_type": "code",
   "execution_count": 19,
   "id": "7426c2af-c30e-41ad-aebd-a57934f8f9e8",
   "metadata": {},
   "outputs": [
    {
     "data": {
      "text/plain": [
       "32"
      ]
     },
     "execution_count": 19,
     "metadata": {},
     "output_type": "execute_result"
    }
   ],
   "source": [
    "a = np.array([1,2,3])\n",
    "b = np.array([4,5,6])\n",
    "np.dot(a,b)"
   ]
  },
  {
   "cell_type": "code",
   "execution_count": null,
   "id": "97469788-8b66-4607-80de-e7d4a06dfb68",
   "metadata": {},
   "outputs": [],
   "source": []
  },
  {
   "cell_type": "code",
   "execution_count": 20,
   "id": "1dac4d79-6355-4a40-8ae8-a6070a78f854",
   "metadata": {},
   "outputs": [
    {
     "data": {
      "text/plain": [
       "array([[19, 22],\n",
       "       [43, 50]])"
      ]
     },
     "execution_count": 20,
     "metadata": {},
     "output_type": "execute_result"
    }
   ],
   "source": [
    "A = np.array([[1,2],[3,4]])\n",
    "B = np.array([[5,6],[7,8]])\n",
    "np.matmul(A,B)"
   ]
  },
  {
   "cell_type": "code",
   "execution_count": null,
   "id": "00ffed93-8569-4693-bd52-0e5c80075f0d",
   "metadata": {},
   "outputs": [],
   "source": []
  },
  {
   "cell_type": "code",
   "execution_count": 21,
   "id": "1c304630-ec3a-4995-9c9b-26e695d7a9d0",
   "metadata": {},
   "outputs": [],
   "source": [
    "import numpy as np\n"
   ]
  },
  {
   "cell_type": "code",
   "execution_count": 22,
   "id": "e1c35a3e-61ee-4142-843e-30b96a56fb77",
   "metadata": {},
   "outputs": [],
   "source": [
    "W1 = np.random.randn(2,4)"
   ]
  },
  {
   "cell_type": "code",
   "execution_count": 23,
   "id": "cc7c2e61-26c1-498e-b264-9d886ba299c8",
   "metadata": {},
   "outputs": [],
   "source": [
    "b1 = np.random.randn(4)\n"
   ]
  },
  {
   "cell_type": "code",
   "execution_count": 24,
   "id": "55aae707-00ae-4929-9142-bad095b15ea5",
   "metadata": {},
   "outputs": [],
   "source": [
    "x = np.random.randn(10,2)"
   ]
  },
  {
   "cell_type": "code",
   "execution_count": 25,
   "id": "51440a71-24bf-49e7-a5f9-94f7b0cc2c5f",
   "metadata": {},
   "outputs": [],
   "source": [
    "h = np.matmul(x,W1)+b1"
   ]
  },
  {
   "cell_type": "code",
   "execution_count": 26,
   "id": "df0fd688-7e29-4a40-b756-06a6369aa625",
   "metadata": {},
   "outputs": [],
   "source": [
    "def sigmoid(x):\n",
    "    return 1/(1+np.exp(-x))"
   ]
  },
  {
   "cell_type": "code",
   "execution_count": 27,
   "id": "1422c9c0-93c7-4263-95f6-5f7c8d852e71",
   "metadata": {},
   "outputs": [],
   "source": [
    "a = sigmoid(h)"
   ]
  },
  {
   "cell_type": "code",
   "execution_count": 28,
   "id": "caf4eaa9-ae82-4855-b4eb-dc5ca4a9bd5c",
   "metadata": {},
   "outputs": [
    {
     "data": {
      "text/plain": [
       "array([[0.51625354, 0.20601288, 0.1276323 , 0.15618641],\n",
       "       [0.47667905, 0.09755021, 0.5142203 , 0.38251528],\n",
       "       [0.28761674, 0.14142392, 0.39641795, 0.26030143],\n",
       "       [0.52509712, 0.07644168, 0.62973538, 0.4713221 ],\n",
       "       [0.13566573, 0.41048719, 0.04585585, 0.04688585],\n",
       "       [0.11297382, 0.14256758, 0.54358068, 0.2617138 ],\n",
       "       [0.44395345, 0.15889958, 0.25336657, 0.22356021],\n",
       "       [0.04156008, 0.45174518, 0.06219661, 0.03837787],\n",
       "       [0.02810347, 0.11950567, 0.80296171, 0.32483011],\n",
       "       [0.52654314, 0.19548001, 0.14160808, 0.16836908]])"
      ]
     },
     "execution_count": 28,
     "metadata": {},
     "output_type": "execute_result"
    }
   ],
   "source": [
    "a"
   ]
  },
  {
   "cell_type": "code",
   "execution_count": null,
   "id": "3074e1ec-f5df-47f1-a78d-31c9f2bf11d7",
   "metadata": {},
   "outputs": [],
   "source": []
  },
  {
   "cell_type": "code",
   "execution_count": null,
   "id": "d5e5c4f7-26f3-447c-b594-192980d5d280",
   "metadata": {},
   "outputs": [],
   "source": []
  },
  {
   "cell_type": "code",
   "execution_count": 30,
   "id": "a262a05e-234a-4b89-89ad-11ea0b4b48cb",
   "metadata": {},
   "outputs": [],
   "source": [
    "import numpy as np\n",
    "\n",
    "def sigmoid(x):\n",
    "    return 1 / (1+np.exp(-x))\n",
    "\n",
    "x=np.random.randn(10,2)\n",
    "W1 = np.random.randn(2,4)\n",
    "b1 = np.random.randn(4)\n",
    "W2 = np.random.randn(4,3)\n",
    "b2 = np.random.randn(3)\n",
    "\n",
    "h = np.matmul(x, W1) + b1\n",
    "\n",
    "a=sigmoid(h)\n",
    "s = np.matmul(a,W2) +b2"
   ]
  },
  {
   "cell_type": "code",
   "execution_count": null,
   "id": "56471d08-813c-4d03-8b3f-f7c65fbde670",
   "metadata": {},
   "outputs": [],
   "source": []
  },
  {
   "cell_type": "code",
   "execution_count": 31,
   "id": "8a80c409-7a5c-488f-9064-71a2bf2b9a78",
   "metadata": {},
   "outputs": [],
   "source": [
    "import numpy as np\n",
    "\n",
    "class Sigmoid:\n",
    "    def __init__(self):\n",
    "        self.params=[]\n",
    "\n",
    "    def forward(self,x):\n",
    "        return 1 / (1+np.exp(-x))\n",
    "        "
   ]
  },
  {
   "cell_type": "code",
   "execution_count": null,
   "id": "6b20eff8-2bcd-487d-b83f-1cb1fde56e43",
   "metadata": {},
   "outputs": [],
   "source": []
  },
  {
   "cell_type": "code",
   "execution_count": null,
   "id": "a9613bce-93c8-48d1-99d6-5232634da61e",
   "metadata": {},
   "outputs": [],
   "source": []
  },
  {
   "cell_type": "code",
   "execution_count": 32,
   "id": "9f9d1da9-61ee-4a01-ac5e-e00bf7e30ffa",
   "metadata": {},
   "outputs": [],
   "source": [
    "class Affine:\n",
    "    def __init__(self,W,b):\n",
    "        self.params = [W,b]\n",
    "\n",
    "    def forward(self, x):\n",
    "        W, b = self.params\n",
    "        out =np.matmul(x,W)+b\n",
    "        return out"
   ]
  },
  {
   "cell_type": "code",
   "execution_count": null,
   "id": "8ba6aac7-b3cb-46ac-a7a1-f0c427acdd12",
   "metadata": {},
   "outputs": [],
   "source": []
  },
  {
   "cell_type": "code",
   "execution_count": null,
   "id": "a4a5149f-bd70-4769-97d6-c504427d338a",
   "metadata": {},
   "outputs": [],
   "source": []
  },
  {
   "cell_type": "code",
   "execution_count": 33,
   "id": "88478be3-aa79-480b-8a3a-9d5f583e0433",
   "metadata": {},
   "outputs": [],
   "source": [
    "class TwoLayerNet:\n",
    "    def __init__(self, input_size, hidden_size, output_size):\n",
    "        I, H, O = input_size, hidden_size, output_size\n",
    "\n",
    "        #가중치와 편향 초기화\n",
    "        W1 = np.random.randn(I,H)\n",
    "        b1 = np.random.randn(H)\n",
    "        W2 = np.random.randn(H,O)\n",
    "        b2 = np.random.randn(O)\n",
    "    \n",
    "        # 계층 새엇ㅇ\n",
    "        self.layers = [Affine(W1,b1),\n",
    "                      Sigmoid(),\n",
    "                      Affine(W2,b2)\n",
    "                      ]\n",
    "    \n",
    "        # 모든 가중치를 리스트에 모은다.\n",
    "        self.params = []\n",
    "        for layer in self.layers:\n",
    "            self.params += layer.params\n",
    "\n",
    "    def predict(self, x):\n",
    "        for layer in self.layers:\n",
    "            x=layer.forward(x)\n",
    "        return x\n",
    "    "
   ]
  },
  {
   "cell_type": "code",
   "execution_count": null,
   "id": "b2499058-4268-4ba9-95df-4c7c22a9de8d",
   "metadata": {},
   "outputs": [],
   "source": []
  },
  {
   "cell_type": "code",
   "execution_count": 34,
   "id": "d32a245c-7b74-4bfc-a6c7-6ddcdf46028c",
   "metadata": {},
   "outputs": [],
   "source": [
    "x = np.random.randn(10,2)"
   ]
  },
  {
   "cell_type": "code",
   "execution_count": 35,
   "id": "df3f18a3-4d2d-4611-af97-2986a77a171d",
   "metadata": {},
   "outputs": [],
   "source": [
    "model = TwoLayerNet(2,4,3)"
   ]
  },
  {
   "cell_type": "code",
   "execution_count": 36,
   "id": "6cf2777a-f92b-495a-8773-4eda05020bde",
   "metadata": {},
   "outputs": [],
   "source": [
    "s = model.predict(x)"
   ]
  },
  {
   "cell_type": "code",
   "execution_count": 37,
   "id": "0428d98c-f78b-4abd-b3a6-ebe156ff6740",
   "metadata": {},
   "outputs": [
    {
     "data": {
      "text/plain": [
       "array([[ 2.18733084, -0.82581609,  2.59295556],\n",
       "       [ 2.58300047, -0.65865095,  2.28621761],\n",
       "       [ 2.43251538, -0.55330452,  2.39245704],\n",
       "       [ 2.47196101, -0.82416857,  2.37050755],\n",
       "       [ 2.22124995, -0.96115851,  1.6934006 ],\n",
       "       [ 2.26599674, -0.41956991,  2.50277153],\n",
       "       [ 1.95887782, -0.86437558,  2.77068703],\n",
       "       [ 1.84314065, -0.9730633 ,  1.80167199],\n",
       "       [ 2.56391621, -0.85066996,  2.29490477],\n",
       "       [ 2.67113592, -0.56900986,  2.23159846]])"
      ]
     },
     "execution_count": 37,
     "metadata": {},
     "output_type": "execute_result"
    }
   ],
   "source": [
    "s"
   ]
  },
  {
   "cell_type": "code",
   "execution_count": null,
   "id": "f7f042fb-8c19-45ac-becb-e17ef9fd03a1",
   "metadata": {},
   "outputs": [],
   "source": []
  }
 ],
 "metadata": {
  "kernelspec": {
   "display_name": "Python 3 (ipykernel)",
   "language": "python",
   "name": "python3"
  },
  "language_info": {
   "codemirror_mode": {
    "name": "ipython",
    "version": 3
   },
   "file_extension": ".py",
   "mimetype": "text/x-python",
   "name": "python",
   "nbconvert_exporter": "python",
   "pygments_lexer": "ipython3",
   "version": "3.11.7"
  }
 },
 "nbformat": 4,
 "nbformat_minor": 5
}
